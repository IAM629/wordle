{
 "cells": [
  {
   "cell_type": "code",
   "execution_count": 4,
   "id": "7b12ffc1-2a68-40ff-ae78-e0b9265bda90",
   "metadata": {},
   "outputs": [
    {
     "name": "stdout",
     "output_type": "stream",
     "text": [
      "🎯 Welcome to Wordle! Guess the 5-letter word.\n",
      "abbot\n"
     ]
    },
    {
     "name": "stdin",
     "output_type": "stream",
     "text": [
      "Attempt 1/6:  words\n"
     ]
    },
    {
     "name": "stdout",
     "output_type": "stream",
     "text": [
      "Feedback: ['⬜', '🟨', '⬜', '⬜', '⬜']\n"
     ]
    },
    {
     "name": "stdin",
     "output_type": "stream",
     "text": [
      "Attempt 2/6:  apple\n"
     ]
    },
    {
     "name": "stdout",
     "output_type": "stream",
     "text": [
      "Feedback: ['🟩', '⬜', '⬜', '⬜', '⬜']\n"
     ]
    },
    {
     "name": "stdin",
     "output_type": "stream",
     "text": [
      "Attempt 3/6:  aoooo\n"
     ]
    },
    {
     "name": "stdout",
     "output_type": "stream",
     "text": [
      "❌ Invalid input. Please enter a 5-letter legal word.\n"
     ]
    },
    {
     "name": "stdin",
     "output_type": "stream",
     "text": [
      "Attempt 3/6:  brave\n"
     ]
    },
    {
     "name": "stdout",
     "output_type": "stream",
     "text": [
      "Feedback: ['🟨', '⬜', '🟨', '⬜', '⬜']\n"
     ]
    },
    {
     "name": "stdin",
     "output_type": "stream",
     "text": [
      "Attempt 4/6:  abbot\n"
     ]
    },
    {
     "name": "stdout",
     "output_type": "stream",
     "text": [
      "Feedback: ['🟩', '🟩', '🟩', '🟩', '🟩']\n",
      "You win!!\n"
     ]
    }
   ],
   "source": [
    "#local host version\n",
    "import random\n",
    "\n",
    "max_attempt = 6\n",
    "\n",
    "#words = [\"apple\", \"grape\", \"sugar\", \"flame\", \"brave\"]\n",
    "\n",
    "def load_words(filename):\n",
    "    with open(filename, \"r\") as file:\n",
    "        words = [line.strip().lower() for line in file if len(line.strip()) == 5 and line.strip().isalpha()]\n",
    "    # ensure the list contains only 5-letter words\n",
    "    words = [word for word in words if len(word) == 5]\n",
    "    return words\n",
    "\n",
    "def get_feedback(guess, answer):\n",
    "    feedback = []\n",
    "    for i in range(len(guess)):\n",
    "        if guess[i] == answer[i]:\n",
    "            feedback.append(\"🟩\")  # Correct letter and position\n",
    "        elif guess[i] in answer:\n",
    "            feedback.append(\"🟨\")  # Correct letter, wrong position\n",
    "        else:\n",
    "            feedback.append(\"⬜\")  # Letter not in word\n",
    "    # return \"\".join(feedback)\n",
    "    return (feedback)\n",
    "\n",
    "def is_valid(word,words):\n",
    "    return len(word) == 5 and word.isalpha() and word in words\n",
    "\n",
    "def play():\n",
    "    words = load_words(\"5-letter_words.txt\")\n",
    "    answer = random.choice(words)\n",
    "    print(\"🎯 Welcome to Wordle! Guess the 5-letter word.\")\n",
    "    attempts = 0\n",
    "    #testing, remove later\n",
    "    print(answer)\n",
    "\n",
    "    while attempts < max_attempt:\n",
    "        guess = input(f\"Attempt {attempts + 1}/{max_attempt}: \").lower()\n",
    "        if not is_valid(guess,words):\n",
    "            print(\"❌ Invalid input. Please enter a 5-letter legal word.\")\n",
    "            continue\n",
    "\n",
    "        feedback = get_feedback(guess, answer)\n",
    "        print(f\"Feedback: {feedback}\")\n",
    "\n",
    "        if guess == answer:\n",
    "            print(\"You win!!\")\n",
    "            break\n",
    "\n",
    "        attempts += 1\n",
    "\n",
    "    else:\n",
    "        print(f\"💀 Game over! The word was: {answer}\")\n",
    "\n",
    "if __name__ == \"__main__\":\n",
    "    play()\n"
   ]
  },
  {
   "cell_type": "code",
   "execution_count": 21,
   "id": "8031cc4d-266e-44cc-8835-c98708886321",
   "metadata": {
    "scrolled": true
   },
   "outputs": [
    {
     "name": "stdout",
     "output_type": "stream",
     "text": [
      "test answer: tapes\n"
     ]
    }
   ],
   "source": [
    "#local host version with ui\n",
    "import tkinter as tk\n",
    "import random\n",
    "\n",
    "max_attempts = 6\n",
    "word_length = 5\n",
    "word_file = \"5-letter_words.txt\"\n",
    "\n",
    "def load_words(filename):\n",
    "    with open(filename, \"r\") as file:\n",
    "        words = [line.strip().lower() for line in file if len(line.strip()) == word_length and line.strip().isalpha()]\n",
    "    return words\n",
    "\n",
    "def get_feedback(guess, answer):\n",
    "    feedback = []\n",
    "    for i in range(len(guess)):\n",
    "        if guess[i] == answer[i]:\n",
    "            feedback.append(\"green\")\n",
    "        elif guess[i] in answer:\n",
    "            feedback.append(\"yellow\")\n",
    "        else:\n",
    "            feedback.append(\"gray\")\n",
    "    return feedback\n",
    "\n",
    "def is_valid(word, word_list):\n",
    "    return len(word) == word_length and word in word_list\n",
    "\n",
    "class WordleGame:\n",
    "    def __init__(self, root):\n",
    "        self.root = root\n",
    "        self.root.title(\"Wordle Game\")\n",
    "        self.words = load_words(word_file)\n",
    "        self.answer = random.choice(self.words)\n",
    "        self.attempts = 0\n",
    "        self.current_guess = \"\"\n",
    "        self.guess_labels = []\n",
    "        self.keyboard_buttons = {}\n",
    "        self.message_label = None\n",
    "\n",
    "        self.create_ui()\n",
    "        self.root.bind(\"<Key>\", self.handle_keypress)\n",
    "        # Remove later\n",
    "        print(f\"test answer: {self.answer}\")\n",
    "\n",
    "    # Config the UI layout\n",
    "    def create_ui(self):\n",
    "        self.grid_frame = tk.Frame(self.root)\n",
    "        self.grid_frame.pack(pady=10)\n",
    "\n",
    "        for row in range(max_attempts):\n",
    "            row_labels = []\n",
    "            for col in range(word_length):\n",
    "                lbl = tk.Label(self.grid_frame, text=\" \", width=4, height=2, font=(\"Helvetica\", 18), relief=\"solid\", bg=\"white\")\n",
    "                lbl.grid(row=row, column=col, padx=2, pady=2)\n",
    "                row_labels.append(lbl)\n",
    "            self.guess_labels.append(row_labels)\n",
    "\n",
    "        self.keyboard_frame = tk.Frame(self.root)\n",
    "        self.keyboard_frame.pack()\n",
    "\n",
    "        keys_row1 = \"QWERTYUIOP\"\n",
    "        keys_row2 = \"ASDFGHJKL\"\n",
    "        keys_row3 = \"ZXCVBNM\"\n",
    "        \n",
    "        # Row 1\n",
    "        for i, letter in enumerate(keys_row1):\n",
    "            btn = tk.Button(self.keyboard_frame, text=letter, width=4, height=2, command=lambda l=letter: self.add_letter(l))\n",
    "            btn.grid(row=0, column=i, padx=2, pady=2)\n",
    "            self.keyboard_buttons[letter.lower()] = btn\n",
    "        \n",
    "        # Row 2\n",
    "        for i, letter in enumerate(keys_row2):\n",
    "            btn = tk.Button(self.keyboard_frame, text=letter, width=4, height=2, command=lambda l=letter: self.add_letter(l))\n",
    "            btn.grid(row=1, column=i + 1, padx=2, pady=2)  # Indented for alignment\n",
    "            self.keyboard_buttons[letter.lower()] = btn\n",
    "        \n",
    "        # Row 3\n",
    "        for i, letter in enumerate(keys_row3):\n",
    "            btn = tk.Button(self.keyboard_frame, text=letter, width=4, height=2, command=lambda l=letter: self.add_letter(l))\n",
    "            btn.grid(row=2, column=i + 1, padx=2, pady=2)  # Further indented for alignment\n",
    "            self.keyboard_buttons[letter.lower()] = btn\n",
    "    \n",
    "    \n",
    "        # Add backspace and submit buttons\n",
    "        self.backspace_btn = tk.Button(self.keyboard_frame, text=\"←\", width=4, height=2, command=self.backspace)\n",
    "        self.backspace_btn.grid(row=3, column=7, padx=2, pady=2)\n",
    "        \n",
    "        self.enter_btn = tk.Button(self.keyboard_frame, text=\"Enter\", width=6, height=2, command=self.submit_guess)\n",
    "        self.enter_btn.grid(row=3, column=8, columnspan=2, padx=2, pady=2)\n",
    "        \"\"\"\n",
    "        btn= tk.Button(self.keyboard_frame, text=\"←\", width=4, height=2, command=self.backspace)\n",
    "        btn.grid(row=3, column=7, padx=2, pady=2)\n",
    "        self.keyboard_buttons[letter.lower()] = btn\n",
    "        btn=tk.Button(self.keyboard_frame, text=\"Enter\", width=6, height=2, command=self.submit_guess)\n",
    "        btn.grid(row=3, column=8, columnspan=2, padx=2, pady=2)\n",
    "        #self.keyboard_buttons[letter.lower()] = btn\n",
    "        \"\"\"\n",
    "        self.message_label = tk.Label(self.root, text=\"\", font=(\"Helvetica\", 14), fg=\"red\")\n",
    "        self.message_label.pack(pady=5)\n",
    "\n",
    "        \n",
    "    # Add letter to the grid\n",
    "    def add_letter(self, letter):\n",
    "        if len(self.current_guess) < word_length:\n",
    "            self.current_guess += letter.lower()\n",
    "            self.update_grid()\n",
    "\n",
    "    def backspace(self):\n",
    "        self.current_guess = self.current_guess[:-1]\n",
    "        self.update_grid()\n",
    "\n",
    "    def update_grid(self):\n",
    "        row = self.attempts\n",
    "        for i in range(word_length):\n",
    "            char = self.current_guess[i].upper() if i < len(self.current_guess) else \" \"\n",
    "            self.guess_labels[row][i].config(text=char)\n",
    "\n",
    "    def submit_guess(self):\n",
    "        if len(self.current_guess) != word_length:\n",
    "            self.show_message(\"Not enough letters\")\n",
    "            return\n",
    "\n",
    "        if not is_valid(self.current_guess, self.words):\n",
    "            self.show_message(\"Invalid word\")\n",
    "            return\n",
    "\n",
    "        feedback = get_feedback(self.current_guess, self.answer)\n",
    "        for i, color in enumerate(feedback):\n",
    "            self.guess_labels[self.attempts][i].config(bg=color)\n",
    "            self.update_keyboard_color(self.current_guess[i], color)\n",
    "\n",
    "        if self.current_guess == self.answer:\n",
    "            self.show_message(\"🎉 You win!\", success=True)\n",
    "            # Disable user input after winning\n",
    "            self.root.unbind(\"<Key>\")\n",
    "            for btn in self.keyboard_buttons.values():\n",
    "                btn.config(state=\"disabled\")\n",
    "            self.backspace_btn.config(state=\"disabled\")\n",
    "            self.enter_btn.config(state=\"disabled\")\n",
    "            return\n",
    "\n",
    "        self.attempts += 1\n",
    "        self.current_guess = \"\"\n",
    "\n",
    "        if self.attempts == MAX_ATTEMPTS:\n",
    "            self.show_message(f\"💀 Game over! Word was: {self.answer}\", success=False)\n",
    "            self.root.unbind(\"<Key>\")\n",
    "\n",
    "    def update_keyboard_color(self, letter, color):\n",
    "        btn = self.keyboard_buttons.get(letter)\n",
    "        if btn:\n",
    "            current = btn.cget(\"bg\")\n",
    "            # Prioritize showing color green > yellow > gray\n",
    "            if current == \"green\":\n",
    "                return\n",
    "            elif current == \"yellow\" and color == \"gray\":\n",
    "                return\n",
    "            btn.config(bg=color)\n",
    "\n",
    "    def show_message(self, msg, success=False):\n",
    "        self.message_label.config(text=msg, fg=\"green\" if success else \"red\")\n",
    "        if not success:\n",
    "            self.root.after(2000, lambda: self.message_label.config(text=\"\"))\n",
    "\n",
    "    def handle_keypress(self, event):\n",
    "        key = event.keysym.lower()\n",
    "        if key == \"backspace\":\n",
    "            self.backspace()\n",
    "        elif key == \"return\":\n",
    "            self.submit_guess()\n",
    "        elif key.isalpha() and len(key) == 1:\n",
    "            self.add_letter(key)\n",
    "\n",
    "if __name__ == \"__main__\":\n",
    "    root = tk.Tk()\n",
    "    game = WordleGame(root)\n",
    "    root.mainloop()"
   ]
  },
  {
   "cell_type": "code",
   "execution_count": null,
   "id": "fadfefa8-16c4-4902-80c5-f7b5f0af6943",
   "metadata": {},
   "outputs": [],
   "source": []
  }
 ],
 "metadata": {
  "kernelspec": {
   "display_name": "Python [conda env:base] *",
   "language": "python",
   "name": "conda-base-py"
  },
  "language_info": {
   "codemirror_mode": {
    "name": "ipython",
    "version": 3
   },
   "file_extension": ".py",
   "mimetype": "text/x-python",
   "name": "python",
   "nbconvert_exporter": "python",
   "pygments_lexer": "ipython3",
   "version": "3.13.5"
  }
 },
 "nbformat": 4,
 "nbformat_minor": 5
}
